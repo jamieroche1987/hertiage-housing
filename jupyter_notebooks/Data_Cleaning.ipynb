{
 "cells": [
  {
   "cell_type": "markdown",
   "metadata": {},
   "source": [
    "# Data Cleaning Notebook"
   ]
  },
  {
   "cell_type": "markdown",
   "metadata": {},
   "source": [
    "## Objectives\n",
    "\n",
    "* Evaluate any missing data\n",
    "* Clean data\n",
    "* Conduct a PPS Study\n",
    "* Split data into Test and Train sets"
   ]
  },
  {
   "cell_type": "markdown",
   "metadata": {},
   "source": [
    "## Inputs\n",
    "\n",
    "* <code>outputs/datasets/collection/HousePriceRecords.csv</code>\n",
    "\n",
    "## Outputs\n",
    "\n",
    "* Generate cleaned <code>Test</code> and <code>Train</code> sets, both saved under: <code>outputs/datasets/cleaned</code>\n",
    "\n",
    "* Generate cleaned <HousePriceRecords> data, saved under: <code>outputs/datasets/cleaned</code>\n",
    "\n",
    "## Additional Comments\n",
    "\n",
    "* Use the *DropFeatures* feature to drop the variables\n",
    "\n",
    "* Use the *CategoricalImputer* feature to replace the missing data with the most frequently occuring variable\n",
    "\n",
    "* Use the *ArbitraryNumberImputer* feature replace the missing variable data with the value of *0*\n",
    "\n",
    "* Use the *MeanMedianImputer* feature to replace the missing variable data with the median"
   ]
  },
  {
   "cell_type": "markdown",
   "metadata": {},
   "source": [
    "---"
   ]
  },
  {
   "cell_type": "markdown",
   "metadata": {},
   "source": [
    "# Change working directory\n",
    "\n",
    "We need to change the working directory from its current folder to its parent folder\n",
    "\n",
    "* We access the current directory with os.getcwd()"
   ]
  },
  {
   "cell_type": "code",
   "execution_count": 39,
   "metadata": {},
   "outputs": [
    {
     "data": {
      "text/plain": [
       "'/workspace/hertiage-housing'"
      ]
     },
     "execution_count": 39,
     "metadata": {},
     "output_type": "execute_result"
    }
   ],
   "source": [
    "import os\n",
    "current_dir = os.getcwd()\n",
    "current_dir"
   ]
  },
  {
   "cell_type": "markdown",
   "metadata": {},
   "source": [
    "We want to make the parent of the current directory the new current directory\n",
    "\n",
    "* os.path.dirname() gets the parent directory\n",
    "\n",
    "* os.chir() defines the new current directory"
   ]
  },
  {
   "cell_type": "code",
   "execution_count": 40,
   "metadata": {},
   "outputs": [
    {
     "name": "stdout",
     "output_type": "stream",
     "text": [
      "You set a new current directory\n"
     ]
    }
   ],
   "source": [
    "os.chdir(os.path.dirname(current_dir))\n",
    "print(\"You set a new current directory\")"
   ]
  },
  {
   "cell_type": "markdown",
   "metadata": {},
   "source": [
    "Confirm the new current directory"
   ]
  },
  {
   "cell_type": "code",
   "execution_count": 41,
   "metadata": {},
   "outputs": [
    {
     "data": {
      "text/plain": [
       "'/workspace'"
      ]
     },
     "execution_count": 41,
     "metadata": {},
     "output_type": "execute_result"
    }
   ],
   "source": [
    "current_dir = os.getcwd()\n",
    "current_dir"
   ]
  },
  {
   "cell_type": "markdown",
   "metadata": {},
   "source": [
    "## Load Both Datasets"
   ]
  },
  {
   "cell_type": "markdown",
   "metadata": {},
   "source": [
    "Load House Price Records:"
   ]
  },
  {
   "cell_type": "code",
   "execution_count": 44,
   "metadata": {},
   "outputs": [
    {
     "ename": "FileNotFoundError",
     "evalue": "[Errno 2] No such file or directory: 'outputs/datasets/collection/HousePriceRecords.csv'",
     "output_type": "error",
     "traceback": [
      "\u001b[0;31m---------------------------------------------------------------------------\u001b[0m",
      "\u001b[0;31mFileNotFoundError\u001b[0m                         Traceback (most recent call last)",
      "\u001b[1;32m/workspace/hertiage-housing/jupyter_notebooks/Data_Cleaning.ipynb Cell 13\u001b[0m line \u001b[0;36m2\n\u001b[1;32m      <a href='vscode-notebook-cell://jamieroche1-hertiagehou-0caiwn8gkj0.ws-eu108.gitpod.io/workspace/hertiage-housing/jupyter_notebooks/Data_Cleaning.ipynb#X15sdnNjb2RlLXJlbW90ZQ%3D%3D?line=0'>1</a>\u001b[0m \u001b[39mimport\u001b[39;00m \u001b[39mpandas\u001b[39;00m \u001b[39mas\u001b[39;00m \u001b[39mpd\u001b[39;00m\n\u001b[0;32m----> <a href='vscode-notebook-cell://jamieroche1-hertiagehou-0caiwn8gkj0.ws-eu108.gitpod.io/workspace/hertiage-housing/jupyter_notebooks/Data_Cleaning.ipynb#X15sdnNjb2RlLXJlbW90ZQ%3D%3D?line=1'>2</a>\u001b[0m df_house_prices \u001b[39m=\u001b[39m pd\u001b[39m.\u001b[39;49mread_csv(\u001b[39m\"\u001b[39;49m\u001b[39moutputs/datasets/collection/HousePriceRecords.csv\u001b[39;49m\u001b[39m\"\u001b[39;49m)\n\u001b[1;32m      <a href='vscode-notebook-cell://jamieroche1-hertiagehou-0caiwn8gkj0.ws-eu108.gitpod.io/workspace/hertiage-housing/jupyter_notebooks/Data_Cleaning.ipynb#X15sdnNjb2RlLXJlbW90ZQ%3D%3D?line=2'>3</a>\u001b[0m \u001b[39mprint\u001b[39m(df_house_prices\u001b[39m.\u001b[39mshape)\n\u001b[1;32m      <a href='vscode-notebook-cell://jamieroche1-hertiagehou-0caiwn8gkj0.ws-eu108.gitpod.io/workspace/hertiage-housing/jupyter_notebooks/Data_Cleaning.ipynb#X15sdnNjb2RlLXJlbW90ZQ%3D%3D?line=3'>4</a>\u001b[0m df_house_prices\u001b[39m.\u001b[39mhead()\n",
      "File \u001b[0;32m/workspace/hertiage-housing/.venv/lib/python3.12/site-packages/pandas/util/_decorators.py:211\u001b[0m, in \u001b[0;36mdeprecate_kwarg.<locals>._deprecate_kwarg.<locals>.wrapper\u001b[0;34m(*args, **kwargs)\u001b[0m\n\u001b[1;32m    209\u001b[0m     \u001b[39melse\u001b[39;00m:\n\u001b[1;32m    210\u001b[0m         kwargs[new_arg_name] \u001b[39m=\u001b[39m new_arg_value\n\u001b[0;32m--> 211\u001b[0m \u001b[39mreturn\u001b[39;00m func(\u001b[39m*\u001b[39;49margs, \u001b[39m*\u001b[39;49m\u001b[39m*\u001b[39;49mkwargs)\n",
      "File \u001b[0;32m/workspace/hertiage-housing/.venv/lib/python3.12/site-packages/pandas/util/_decorators.py:331\u001b[0m, in \u001b[0;36mdeprecate_nonkeyword_arguments.<locals>.decorate.<locals>.wrapper\u001b[0;34m(*args, **kwargs)\u001b[0m\n\u001b[1;32m    325\u001b[0m \u001b[39mif\u001b[39;00m \u001b[39mlen\u001b[39m(args) \u001b[39m>\u001b[39m num_allow_args:\n\u001b[1;32m    326\u001b[0m     warnings\u001b[39m.\u001b[39mwarn(\n\u001b[1;32m    327\u001b[0m         msg\u001b[39m.\u001b[39mformat(arguments\u001b[39m=\u001b[39m_format_argument_list(allow_args)),\n\u001b[1;32m    328\u001b[0m         \u001b[39mFutureWarning\u001b[39;00m,\n\u001b[1;32m    329\u001b[0m         stacklevel\u001b[39m=\u001b[39mfind_stack_level(),\n\u001b[1;32m    330\u001b[0m     )\n\u001b[0;32m--> 331\u001b[0m \u001b[39mreturn\u001b[39;00m func(\u001b[39m*\u001b[39;49margs, \u001b[39m*\u001b[39;49m\u001b[39m*\u001b[39;49mkwargs)\n",
      "File \u001b[0;32m/workspace/hertiage-housing/.venv/lib/python3.12/site-packages/pandas/io/parsers/readers.py:950\u001b[0m, in \u001b[0;36mread_csv\u001b[0;34m(filepath_or_buffer, sep, delimiter, header, names, index_col, usecols, squeeze, prefix, mangle_dupe_cols, dtype, engine, converters, true_values, false_values, skipinitialspace, skiprows, skipfooter, nrows, na_values, keep_default_na, na_filter, verbose, skip_blank_lines, parse_dates, infer_datetime_format, keep_date_col, date_parser, dayfirst, cache_dates, iterator, chunksize, compression, thousands, decimal, lineterminator, quotechar, quoting, doublequote, escapechar, comment, encoding, encoding_errors, dialect, error_bad_lines, warn_bad_lines, on_bad_lines, delim_whitespace, low_memory, memory_map, float_precision, storage_options)\u001b[0m\n\u001b[1;32m    935\u001b[0m kwds_defaults \u001b[39m=\u001b[39m _refine_defaults_read(\n\u001b[1;32m    936\u001b[0m     dialect,\n\u001b[1;32m    937\u001b[0m     delimiter,\n\u001b[0;32m   (...)\u001b[0m\n\u001b[1;32m    946\u001b[0m     defaults\u001b[39m=\u001b[39m{\u001b[39m\"\u001b[39m\u001b[39mdelimiter\u001b[39m\u001b[39m\"\u001b[39m: \u001b[39m\"\u001b[39m\u001b[39m,\u001b[39m\u001b[39m\"\u001b[39m},\n\u001b[1;32m    947\u001b[0m )\n\u001b[1;32m    948\u001b[0m kwds\u001b[39m.\u001b[39mupdate(kwds_defaults)\n\u001b[0;32m--> 950\u001b[0m \u001b[39mreturn\u001b[39;00m _read(filepath_or_buffer, kwds)\n",
      "File \u001b[0;32m/workspace/hertiage-housing/.venv/lib/python3.12/site-packages/pandas/io/parsers/readers.py:605\u001b[0m, in \u001b[0;36m_read\u001b[0;34m(filepath_or_buffer, kwds)\u001b[0m\n\u001b[1;32m    602\u001b[0m _validate_names(kwds\u001b[39m.\u001b[39mget(\u001b[39m\"\u001b[39m\u001b[39mnames\u001b[39m\u001b[39m\"\u001b[39m, \u001b[39mNone\u001b[39;00m))\n\u001b[1;32m    604\u001b[0m \u001b[39m# Create the parser.\u001b[39;00m\n\u001b[0;32m--> 605\u001b[0m parser \u001b[39m=\u001b[39m TextFileReader(filepath_or_buffer, \u001b[39m*\u001b[39;49m\u001b[39m*\u001b[39;49mkwds)\n\u001b[1;32m    607\u001b[0m \u001b[39mif\u001b[39;00m chunksize \u001b[39mor\u001b[39;00m iterator:\n\u001b[1;32m    608\u001b[0m     \u001b[39mreturn\u001b[39;00m parser\n",
      "File \u001b[0;32m/workspace/hertiage-housing/.venv/lib/python3.12/site-packages/pandas/io/parsers/readers.py:1442\u001b[0m, in \u001b[0;36mTextFileReader.__init__\u001b[0;34m(self, f, engine, **kwds)\u001b[0m\n\u001b[1;32m   1439\u001b[0m     \u001b[39mself\u001b[39m\u001b[39m.\u001b[39moptions[\u001b[39m\"\u001b[39m\u001b[39mhas_index_names\u001b[39m\u001b[39m\"\u001b[39m] \u001b[39m=\u001b[39m kwds[\u001b[39m\"\u001b[39m\u001b[39mhas_index_names\u001b[39m\u001b[39m\"\u001b[39m]\n\u001b[1;32m   1441\u001b[0m \u001b[39mself\u001b[39m\u001b[39m.\u001b[39mhandles: IOHandles \u001b[39m|\u001b[39m \u001b[39mNone\u001b[39;00m \u001b[39m=\u001b[39m \u001b[39mNone\u001b[39;00m\n\u001b[0;32m-> 1442\u001b[0m \u001b[39mself\u001b[39m\u001b[39m.\u001b[39m_engine \u001b[39m=\u001b[39m \u001b[39mself\u001b[39;49m\u001b[39m.\u001b[39;49m_make_engine(f, \u001b[39mself\u001b[39;49m\u001b[39m.\u001b[39;49mengine)\n",
      "File \u001b[0;32m/workspace/hertiage-housing/.venv/lib/python3.12/site-packages/pandas/io/parsers/readers.py:1735\u001b[0m, in \u001b[0;36mTextFileReader._make_engine\u001b[0;34m(self, f, engine)\u001b[0m\n\u001b[1;32m   1733\u001b[0m     \u001b[39mif\u001b[39;00m \u001b[39m\"\u001b[39m\u001b[39mb\u001b[39m\u001b[39m\"\u001b[39m \u001b[39mnot\u001b[39;00m \u001b[39min\u001b[39;00m mode:\n\u001b[1;32m   1734\u001b[0m         mode \u001b[39m+\u001b[39m\u001b[39m=\u001b[39m \u001b[39m\"\u001b[39m\u001b[39mb\u001b[39m\u001b[39m\"\u001b[39m\n\u001b[0;32m-> 1735\u001b[0m \u001b[39mself\u001b[39m\u001b[39m.\u001b[39mhandles \u001b[39m=\u001b[39m get_handle(\n\u001b[1;32m   1736\u001b[0m     f,\n\u001b[1;32m   1737\u001b[0m     mode,\n\u001b[1;32m   1738\u001b[0m     encoding\u001b[39m=\u001b[39;49m\u001b[39mself\u001b[39;49m\u001b[39m.\u001b[39;49moptions\u001b[39m.\u001b[39;49mget(\u001b[39m\"\u001b[39;49m\u001b[39mencoding\u001b[39;49m\u001b[39m\"\u001b[39;49m, \u001b[39mNone\u001b[39;49;00m),\n\u001b[1;32m   1739\u001b[0m     compression\u001b[39m=\u001b[39;49m\u001b[39mself\u001b[39;49m\u001b[39m.\u001b[39;49moptions\u001b[39m.\u001b[39;49mget(\u001b[39m\"\u001b[39;49m\u001b[39mcompression\u001b[39;49m\u001b[39m\"\u001b[39;49m, \u001b[39mNone\u001b[39;49;00m),\n\u001b[1;32m   1740\u001b[0m     memory_map\u001b[39m=\u001b[39;49m\u001b[39mself\u001b[39;49m\u001b[39m.\u001b[39;49moptions\u001b[39m.\u001b[39;49mget(\u001b[39m\"\u001b[39;49m\u001b[39mmemory_map\u001b[39;49m\u001b[39m\"\u001b[39;49m, \u001b[39mFalse\u001b[39;49;00m),\n\u001b[1;32m   1741\u001b[0m     is_text\u001b[39m=\u001b[39;49mis_text,\n\u001b[1;32m   1742\u001b[0m     errors\u001b[39m=\u001b[39;49m\u001b[39mself\u001b[39;49m\u001b[39m.\u001b[39;49moptions\u001b[39m.\u001b[39;49mget(\u001b[39m\"\u001b[39;49m\u001b[39mencoding_errors\u001b[39;49m\u001b[39m\"\u001b[39;49m, \u001b[39m\"\u001b[39;49m\u001b[39mstrict\u001b[39;49m\u001b[39m\"\u001b[39;49m),\n\u001b[1;32m   1743\u001b[0m     storage_options\u001b[39m=\u001b[39;49m\u001b[39mself\u001b[39;49m\u001b[39m.\u001b[39;49moptions\u001b[39m.\u001b[39;49mget(\u001b[39m\"\u001b[39;49m\u001b[39mstorage_options\u001b[39;49m\u001b[39m\"\u001b[39;49m, \u001b[39mNone\u001b[39;49;00m),\n\u001b[1;32m   1744\u001b[0m )\n\u001b[1;32m   1745\u001b[0m \u001b[39massert\u001b[39;00m \u001b[39mself\u001b[39m\u001b[39m.\u001b[39mhandles \u001b[39mis\u001b[39;00m \u001b[39mnot\u001b[39;00m \u001b[39mNone\u001b[39;00m\n\u001b[1;32m   1746\u001b[0m f \u001b[39m=\u001b[39m \u001b[39mself\u001b[39m\u001b[39m.\u001b[39mhandles\u001b[39m.\u001b[39mhandle\n",
      "File \u001b[0;32m/workspace/hertiage-housing/.venv/lib/python3.12/site-packages/pandas/io/common.py:856\u001b[0m, in \u001b[0;36mget_handle\u001b[0;34m(path_or_buf, mode, encoding, compression, memory_map, is_text, errors, storage_options)\u001b[0m\n\u001b[1;32m    851\u001b[0m \u001b[39melif\u001b[39;00m \u001b[39misinstance\u001b[39m(handle, \u001b[39mstr\u001b[39m):\n\u001b[1;32m    852\u001b[0m     \u001b[39m# Check whether the filename is to be opened in binary mode.\u001b[39;00m\n\u001b[1;32m    853\u001b[0m     \u001b[39m# Binary mode does not support 'encoding' and 'newline'.\u001b[39;00m\n\u001b[1;32m    854\u001b[0m     \u001b[39mif\u001b[39;00m ioargs\u001b[39m.\u001b[39mencoding \u001b[39mand\u001b[39;00m \u001b[39m\"\u001b[39m\u001b[39mb\u001b[39m\u001b[39m\"\u001b[39m \u001b[39mnot\u001b[39;00m \u001b[39min\u001b[39;00m ioargs\u001b[39m.\u001b[39mmode:\n\u001b[1;32m    855\u001b[0m         \u001b[39m# Encoding\u001b[39;00m\n\u001b[0;32m--> 856\u001b[0m         handle \u001b[39m=\u001b[39m \u001b[39mopen\u001b[39;49m(\n\u001b[1;32m    857\u001b[0m             handle,\n\u001b[1;32m    858\u001b[0m             ioargs\u001b[39m.\u001b[39;49mmode,\n\u001b[1;32m    859\u001b[0m             encoding\u001b[39m=\u001b[39;49mioargs\u001b[39m.\u001b[39;49mencoding,\n\u001b[1;32m    860\u001b[0m             errors\u001b[39m=\u001b[39;49merrors,\n\u001b[1;32m    861\u001b[0m             newline\u001b[39m=\u001b[39;49m\u001b[39m\"\u001b[39;49m\u001b[39m\"\u001b[39;49m,\n\u001b[1;32m    862\u001b[0m         )\n\u001b[1;32m    863\u001b[0m     \u001b[39melse\u001b[39;00m:\n\u001b[1;32m    864\u001b[0m         \u001b[39m# Binary mode\u001b[39;00m\n\u001b[1;32m    865\u001b[0m         handle \u001b[39m=\u001b[39m \u001b[39mopen\u001b[39m(handle, ioargs\u001b[39m.\u001b[39mmode)\n",
      "\u001b[0;31mFileNotFoundError\u001b[0m: [Errno 2] No such file or directory: 'outputs/datasets/collection/HousePriceRecords.csv'"
     ]
    }
   ],
   "source": [
    "import pandas as pd\n",
    "df_house_prices = pd.read_csv(\"outputs/datasets/collection/HousePriceRecords.csv\")\n",
    "print(df_house_prices.shape)\n",
    "df_house_prices.head()"
   ]
  },
  {
   "cell_type": "markdown",
   "metadata": {},
   "source": [
    "Load Inherited Houses:"
   ]
  },
  {
   "cell_type": "code",
   "execution_count": null,
   "metadata": {},
   "outputs": [
    {
     "name": "stdout",
     "output_type": "stream",
     "text": [
      "(4, 23)\n"
     ]
    },
    {
     "data": {
      "text/html": [
       "<div>\n",
       "<style scoped>\n",
       "    .dataframe tbody tr th:only-of-type {\n",
       "        vertical-align: middle;\n",
       "    }\n",
       "\n",
       "    .dataframe tbody tr th {\n",
       "        vertical-align: top;\n",
       "    }\n",
       "\n",
       "    .dataframe thead th {\n",
       "        text-align: right;\n",
       "    }\n",
       "</style>\n",
       "<table border=\"1\" class=\"dataframe\">\n",
       "  <thead>\n",
       "    <tr style=\"text-align: right;\">\n",
       "      <th></th>\n",
       "      <th>1stFlrSF</th>\n",
       "      <th>2ndFlrSF</th>\n",
       "      <th>BedroomAbvGr</th>\n",
       "      <th>BsmtExposure</th>\n",
       "      <th>BsmtFinSF1</th>\n",
       "      <th>BsmtFinType1</th>\n",
       "      <th>BsmtUnfSF</th>\n",
       "      <th>EnclosedPorch</th>\n",
       "      <th>GarageArea</th>\n",
       "      <th>GarageFinish</th>\n",
       "      <th>...</th>\n",
       "      <th>LotArea</th>\n",
       "      <th>LotFrontage</th>\n",
       "      <th>MasVnrArea</th>\n",
       "      <th>OpenPorchSF</th>\n",
       "      <th>OverallCond</th>\n",
       "      <th>OverallQual</th>\n",
       "      <th>TotalBsmtSF</th>\n",
       "      <th>WoodDeckSF</th>\n",
       "      <th>YearBuilt</th>\n",
       "      <th>YearRemodAdd</th>\n",
       "    </tr>\n",
       "  </thead>\n",
       "  <tbody>\n",
       "    <tr>\n",
       "      <th>0</th>\n",
       "      <td>896</td>\n",
       "      <td>0</td>\n",
       "      <td>2</td>\n",
       "      <td>No</td>\n",
       "      <td>468.0</td>\n",
       "      <td>Rec</td>\n",
       "      <td>270.0</td>\n",
       "      <td>0</td>\n",
       "      <td>730.0</td>\n",
       "      <td>Unf</td>\n",
       "      <td>...</td>\n",
       "      <td>11622</td>\n",
       "      <td>80.0</td>\n",
       "      <td>0.0</td>\n",
       "      <td>0</td>\n",
       "      <td>6</td>\n",
       "      <td>5</td>\n",
       "      <td>882.0</td>\n",
       "      <td>140</td>\n",
       "      <td>1961</td>\n",
       "      <td>1961</td>\n",
       "    </tr>\n",
       "    <tr>\n",
       "      <th>1</th>\n",
       "      <td>1329</td>\n",
       "      <td>0</td>\n",
       "      <td>3</td>\n",
       "      <td>No</td>\n",
       "      <td>923.0</td>\n",
       "      <td>ALQ</td>\n",
       "      <td>406.0</td>\n",
       "      <td>0</td>\n",
       "      <td>312.0</td>\n",
       "      <td>Unf</td>\n",
       "      <td>...</td>\n",
       "      <td>14267</td>\n",
       "      <td>81.0</td>\n",
       "      <td>108.0</td>\n",
       "      <td>36</td>\n",
       "      <td>6</td>\n",
       "      <td>6</td>\n",
       "      <td>1329.0</td>\n",
       "      <td>393</td>\n",
       "      <td>1958</td>\n",
       "      <td>1958</td>\n",
       "    </tr>\n",
       "    <tr>\n",
       "      <th>2</th>\n",
       "      <td>928</td>\n",
       "      <td>701</td>\n",
       "      <td>3</td>\n",
       "      <td>No</td>\n",
       "      <td>791.0</td>\n",
       "      <td>GLQ</td>\n",
       "      <td>137.0</td>\n",
       "      <td>0</td>\n",
       "      <td>482.0</td>\n",
       "      <td>Fin</td>\n",
       "      <td>...</td>\n",
       "      <td>13830</td>\n",
       "      <td>74.0</td>\n",
       "      <td>0.0</td>\n",
       "      <td>34</td>\n",
       "      <td>5</td>\n",
       "      <td>5</td>\n",
       "      <td>928.0</td>\n",
       "      <td>212</td>\n",
       "      <td>1997</td>\n",
       "      <td>1998</td>\n",
       "    </tr>\n",
       "    <tr>\n",
       "      <th>3</th>\n",
       "      <td>926</td>\n",
       "      <td>678</td>\n",
       "      <td>3</td>\n",
       "      <td>No</td>\n",
       "      <td>602.0</td>\n",
       "      <td>GLQ</td>\n",
       "      <td>324.0</td>\n",
       "      <td>0</td>\n",
       "      <td>470.0</td>\n",
       "      <td>Fin</td>\n",
       "      <td>...</td>\n",
       "      <td>9978</td>\n",
       "      <td>78.0</td>\n",
       "      <td>20.0</td>\n",
       "      <td>36</td>\n",
       "      <td>6</td>\n",
       "      <td>6</td>\n",
       "      <td>926.0</td>\n",
       "      <td>360</td>\n",
       "      <td>1998</td>\n",
       "      <td>1998</td>\n",
       "    </tr>\n",
       "  </tbody>\n",
       "</table>\n",
       "<p>4 rows × 23 columns</p>\n",
       "</div>"
      ],
      "text/plain": [
       "   1stFlrSF  2ndFlrSF  BedroomAbvGr BsmtExposure  BsmtFinSF1 BsmtFinType1  \\\n",
       "0       896         0             2           No       468.0          Rec   \n",
       "1      1329         0             3           No       923.0          ALQ   \n",
       "2       928       701             3           No       791.0          GLQ   \n",
       "3       926       678             3           No       602.0          GLQ   \n",
       "\n",
       "   BsmtUnfSF  EnclosedPorch  GarageArea GarageFinish  ...  LotArea  \\\n",
       "0      270.0              0       730.0          Unf  ...    11622   \n",
       "1      406.0              0       312.0          Unf  ...    14267   \n",
       "2      137.0              0       482.0          Fin  ...    13830   \n",
       "3      324.0              0       470.0          Fin  ...     9978   \n",
       "\n",
       "   LotFrontage MasVnrArea  OpenPorchSF  OverallCond  OverallQual  TotalBsmtSF  \\\n",
       "0         80.0        0.0            0            6            5        882.0   \n",
       "1         81.0      108.0           36            6            6       1329.0   \n",
       "2         74.0        0.0           34            5            5        928.0   \n",
       "3         78.0       20.0           36            6            6        926.0   \n",
       "\n",
       "   WoodDeckSF  YearBuilt  YearRemodAdd  \n",
       "0         140       1961          1961  \n",
       "1         393       1958          1958  \n",
       "2         212       1997          1998  \n",
       "3         360       1998          1998  \n",
       "\n",
       "[4 rows x 23 columns]"
      ]
     },
     "execution_count": 7,
     "metadata": {},
     "output_type": "execute_result"
    }
   ],
   "source": [
    "df_inherited_houses = pd.read_csv(\"outputs/datasets/collection/InheritedHouses.csv\")\n",
    "print(df_inherited_houses.shape)\n",
    "df_inherited_houses.head()"
   ]
  },
  {
   "cell_type": "markdown",
   "metadata": {},
   "source": [
    "---"
   ]
  },
  {
   "cell_type": "markdown",
   "metadata": {},
   "source": [
    "# Data Exploration"
   ]
  },
  {
   "cell_type": "markdown",
   "metadata": {},
   "source": [
    "From the quick display of the data, we can already see that there is missing data in the **HousePriceRecords** Dataset, therefore we will do a more extensive search to see all the variables that contain missing data:"
   ]
  },
  {
   "cell_type": "code",
   "execution_count": null,
   "metadata": {},
   "outputs": [
    {
     "data": {
      "text/plain": [
       "['2ndFlrSF',\n",
       " 'BedroomAbvGr',\n",
       " 'BsmtFinType1',\n",
       " 'EnclosedPorch',\n",
       " 'GarageFinish',\n",
       " 'GarageYrBlt',\n",
       " 'LotFrontage',\n",
       " 'MasVnrArea',\n",
       " 'WoodDeckSF']"
      ]
     },
     "execution_count": 8,
     "metadata": {},
     "output_type": "execute_result"
    }
   ],
   "source": [
    "missing_house_price_vars = df_house_prices.columns[df_house_prices.isna().sum() > 0].to_list()\n",
    "missing_house_price_vars"
   ]
  },
  {
   "cell_type": "code",
   "execution_count": null,
   "metadata": {},
   "outputs": [
    {
     "name": "stdout",
     "output_type": "stream",
     "text": [
      "<class 'pandas.core.frame.DataFrame'>\n",
      "RangeIndex: 1460 entries, 0 to 1459\n",
      "Data columns (total 9 columns):\n",
      " #   Column         Non-Null Count  Dtype  \n",
      "---  ------         --------------  -----  \n",
      " 0   2ndFlrSF       1374 non-null   float64\n",
      " 1   BedroomAbvGr   1361 non-null   float64\n",
      " 2   BsmtFinType1   1346 non-null   object \n",
      " 3   EnclosedPorch  136 non-null    float64\n",
      " 4   GarageFinish   1298 non-null   object \n",
      " 5   GarageYrBlt    1379 non-null   float64\n",
      " 6   LotFrontage    1201 non-null   float64\n",
      " 7   MasVnrArea     1452 non-null   float64\n",
      " 8   WoodDeckSF     155 non-null    float64\n",
      "dtypes: float64(7), object(2)\n",
      "memory usage: 102.8+ KB\n"
     ]
    }
   ],
   "source": [
    "df_house_prices[missing_house_price_vars].info()"
   ]
  },
  {
   "cell_type": "code",
   "execution_count": null,
   "metadata": {},
   "outputs": [
    {
     "ename": "ModuleNotFoundError",
     "evalue": "No module named 'pandas_profiling'",
     "output_type": "error",
     "traceback": [
      "\u001b[0;31m---------------------------------------------------------------------------\u001b[0m",
      "\u001b[0;31mModuleNotFoundError\u001b[0m                       Traceback (most recent call last)",
      "\u001b[1;32m/workspace/hertiage-housing/jupyter_notebooks/Data_Cleaning.ipynb Cell 21\u001b[0m line \u001b[0;36m1\n\u001b[0;32m----> <a href='vscode-notebook-cell://jamieroche1-hertiagehou-0caiwn8gkj0.ws-eu108.gitpod.io/workspace/hertiage-housing/jupyter_notebooks/Data_Cleaning.ipynb#X26sdnNjb2RlLXJlbW90ZQ%3D%3D?line=0'>1</a>\u001b[0m \u001b[39mfrom\u001b[39;00m \u001b[39mpandas_profiling\u001b[39;00m \u001b[39mimport\u001b[39;00m ProfileReport\n\u001b[1;32m      <a href='vscode-notebook-cell://jamieroche1-hertiagehou-0caiwn8gkj0.ws-eu108.gitpod.io/workspace/hertiage-housing/jupyter_notebooks/Data_Cleaning.ipynb#X26sdnNjb2RlLXJlbW90ZQ%3D%3D?line=1'>2</a>\u001b[0m \u001b[39mif\u001b[39;00m missing_house_price_vars:\n\u001b[1;32m      <a href='vscode-notebook-cell://jamieroche1-hertiagehou-0caiwn8gkj0.ws-eu108.gitpod.io/workspace/hertiage-housing/jupyter_notebooks/Data_Cleaning.ipynb#X26sdnNjb2RlLXJlbW90ZQ%3D%3D?line=2'>3</a>\u001b[0m     profile \u001b[39m=\u001b[39m ProfileReport(df\u001b[39m=\u001b[39mdf_house_prices[missing_house_price_vars], minimal\u001b[39m=\u001b[39m\u001b[39mTrue\u001b[39;00m)\n",
      "\u001b[0;31mModuleNotFoundError\u001b[0m: No module named 'pandas_profiling'"
     ]
    }
   ],
   "source": [
    "from pandas_profiling import ProfileReport\n",
    "if missing_house_price_vars:\n",
    "    profile = ProfileReport(df=df_house_prices[missing_house_price_vars], minimal=True)\n",
    "    profile.to_notebook_iframe()\n",
    "else:\n",
    "    print(\"There are no variables with missing data\")"
   ]
  },
  {
   "cell_type": "markdown",
   "metadata": {},
   "source": [
    "Next we will generate another Profile Report to check each variable for missing data:"
   ]
  },
  {
   "cell_type": "markdown",
   "metadata": {},
   "source": [
    "# Findings:\n",
    "\n",
    "* We can see that 10 columns have missing data out of the 24 total columns.\n",
    "* It is a mix of float64 and object data types.\n",
    "* 13 total alerts: 9 for missing data and 4 with too many zeros, also some of these share the same variables.\n",
    "\n",
    "\n",
    "Next we will check if there is any missing data in the InheritedHouses data:"
   ]
  },
  {
   "cell_type": "code",
   "execution_count": null,
   "metadata": {},
   "outputs": [
    {
     "data": {
      "text/plain": [
       "[]"
      ]
     },
     "execution_count": 13,
     "metadata": {},
     "output_type": "execute_result"
    }
   ],
   "source": [
    "missing_inherited_vars = df_inherited_houses.columns[df_inherited_houses.isna().sum() > 0].to_list()\n",
    "missing_inherited_vars"
   ]
  },
  {
   "cell_type": "code",
   "execution_count": null,
   "metadata": {},
   "outputs": [
    {
     "name": "stdout",
     "output_type": "stream",
     "text": [
      "There are no variables with missing data\n"
     ]
    }
   ],
   "source": [
    "if missing_inherited_vars:\n",
    "    profile = ProfileReport(df=df_inherited_houses[missing_inherited_vars], minimal=True)\n",
    "    profile.to_notebook_iframe()\n",
    "else:\n",
    "    print(\"There are no variables with missing data\")"
   ]
  },
  {
   "cell_type": "markdown",
   "metadata": {},
   "source": [
    "## Findings:\n",
    "\n",
    "There is no missing data for this Dataset."
   ]
  },
  {
   "cell_type": "markdown",
   "metadata": {},
   "source": [
    "---"
   ]
  },
  {
   "cell_type": "markdown",
   "metadata": {},
   "source": [
    "## Data Cleaning\n",
    "\n",
    "In this section we will:\n",
    "\n",
    "* Check for missing data levels.\n",
    "* Determine the best way to impute the data.\n",
    "* Clean the data."
   ]
  },
  {
   "cell_type": "markdown",
   "metadata": {},
   "source": [
    "## Accessing Missing Data Levels\n",
    "\n",
    "First of all, we will create a function that will allow us to display the total data missing, percentage of the data, as well as the data type:"
   ]
  },
  {
   "cell_type": "code",
   "execution_count": null,
   "metadata": {},
   "outputs": [
    {
     "data": {
      "text/html": [
       "<div>\n",
       "<style scoped>\n",
       "    .dataframe tbody tr th:only-of-type {\n",
       "        vertical-align: middle;\n",
       "    }\n",
       "\n",
       "    .dataframe tbody tr th {\n",
       "        vertical-align: top;\n",
       "    }\n",
       "\n",
       "    .dataframe thead th {\n",
       "        text-align: right;\n",
       "    }\n",
       "</style>\n",
       "<table border=\"1\" class=\"dataframe\">\n",
       "  <thead>\n",
       "    <tr style=\"text-align: right;\">\n",
       "      <th></th>\n",
       "      <th>MissingDataRows</th>\n",
       "      <th>PercentageOfData</th>\n",
       "      <th>DataType</th>\n",
       "    </tr>\n",
       "  </thead>\n",
       "  <tbody>\n",
       "    <tr>\n",
       "      <th>EnclosedPorch</th>\n",
       "      <td>1324</td>\n",
       "      <td>90.68</td>\n",
       "      <td>float64</td>\n",
       "    </tr>\n",
       "    <tr>\n",
       "      <th>WoodDeckSF</th>\n",
       "      <td>1305</td>\n",
       "      <td>89.38</td>\n",
       "      <td>float64</td>\n",
       "    </tr>\n",
       "    <tr>\n",
       "      <th>LotFrontage</th>\n",
       "      <td>259</td>\n",
       "      <td>17.74</td>\n",
       "      <td>float64</td>\n",
       "    </tr>\n",
       "    <tr>\n",
       "      <th>GarageFinish</th>\n",
       "      <td>162</td>\n",
       "      <td>11.10</td>\n",
       "      <td>object</td>\n",
       "    </tr>\n",
       "    <tr>\n",
       "      <th>BsmtFinType1</th>\n",
       "      <td>114</td>\n",
       "      <td>7.81</td>\n",
       "      <td>object</td>\n",
       "    </tr>\n",
       "    <tr>\n",
       "      <th>BedroomAbvGr</th>\n",
       "      <td>99</td>\n",
       "      <td>6.78</td>\n",
       "      <td>float64</td>\n",
       "    </tr>\n",
       "    <tr>\n",
       "      <th>2ndFlrSF</th>\n",
       "      <td>86</td>\n",
       "      <td>5.89</td>\n",
       "      <td>float64</td>\n",
       "    </tr>\n",
       "    <tr>\n",
       "      <th>GarageYrBlt</th>\n",
       "      <td>81</td>\n",
       "      <td>5.55</td>\n",
       "      <td>float64</td>\n",
       "    </tr>\n",
       "    <tr>\n",
       "      <th>MasVnrArea</th>\n",
       "      <td>8</td>\n",
       "      <td>0.55</td>\n",
       "      <td>float64</td>\n",
       "    </tr>\n",
       "  </tbody>\n",
       "</table>\n",
       "</div>"
      ],
      "text/plain": [
       "               MissingDataRows  PercentageOfData DataType\n",
       "EnclosedPorch             1324             90.68  float64\n",
       "WoodDeckSF                1305             89.38  float64\n",
       "LotFrontage                259             17.74  float64\n",
       "GarageFinish               162             11.10   object\n",
       "BsmtFinType1               114              7.81   object\n",
       "BedroomAbvGr                99              6.78  float64\n",
       "2ndFlrSF                    86              5.89  float64\n",
       "GarageYrBlt                 81              5.55  float64\n",
       "MasVnrArea                   8              0.55  float64"
      ]
     },
     "execution_count": 15,
     "metadata": {},
     "output_type": "execute_result"
    }
   ],
   "source": [
    "def EvaluateMissingData(df_house_prices):\n",
    "    missing_data_full = df_house_prices.isnull().sum()\n",
    "    percentage_of_missing = round(missing_data_full/len(df_house_prices)*100, 2)\n",
    "    df_missing_data = (pd.DataFrame(\n",
    "                            data={\"MissingDataRows\": missing_data_full,\n",
    "                                   \"PercentageOfData\": percentage_of_missing,\n",
    "                                   \"DataType\": df_house_prices.dtypes}\n",
    "                                    )\n",
    "                          .sort_values(by=['PercentageOfData'], ascending=False)\n",
    "                          .query(\"PercentageOfData > 0\")\n",
    "                          )\n",
    "\n",
    "    return df_missing_data\n",
    "\n",
    "EvaluateMissingData(df_house_prices)"
   ]
  },
  {
   "cell_type": "markdown",
   "metadata": {},
   "source": [
    "## Findings:\n",
    "\n",
    "Ideally, we would like to preserve as much data as possible rather than dropping/deleting data, we can assess the best way to impute the missing values.\n",
    "\n",
    "* EnclosedPorch is missing 90.68% of data:\n",
    "   * There is a large amount of data missing here, the option we will choose to do here will be to drop the data from the study. This is also because it was it was not one of the variables that were highly correlated against SalePrice.\n",
    "* WoodDeckSF is missing 89.38% of data:\n",
    "   * We will choose to employ the same method as above for this variable for the same reason.\n",
    "* LotFrontage is missing 17.74% of data:\n",
    "   * After looking the ProfileReport, we can see that due to the skewness and kurtosis the data does not seem to have a normal distribution, therefore the missing data should be imputed using the median.\n",
    "* GarageFinish is missing 16.10% of data:\n",
    "   * After looking further into the ProfileReport, we can see that there is different finish types, for this we will fill in the missing data with the most common value.\n",
    "* BsmtFinType1 is missing 9.93% of data:\n",
    "   * We will choose to employ the same method as above for this variable.\n",
    "* BedroomAbvGr is missing 6.78% of data:\n",
    "   * After looking at the ProfileReport, we can see the best imputation to use would be using the median.\n",
    "* 2ndFlrSF is missing 5.89% of data:\n",
    "   * More than 50% is a 0, which indicates that there is no second floor present, therefore we will impute any missing values with 0.\n",
    "* GarageYrBlt is missing 5.55% of data:\n",
    "   * There was a strong correlation between GarageArea and SalePrice, we will therefore assume that the Year the Garage was built should be taken into account, and we will therefore use the median to impute the data.\n",
    "* BsmtExposure is missing 2.60% of data:\n",
    "   * After looking further into the ProfileReport, we can see that there is different exposures, for this we will fill in the missing data with the most common value.\n",
    "* MasVnrArea is missing 0.55% of data:\n",
    "   * The majority of values are 0, which indicates that there is no masonry veneer area present, therefore we will impute any missing values with 0."
   ]
  },
  {
   "cell_type": "markdown",
   "metadata": {},
   "source": [
    "## Conclusions:\n",
    "\n",
    "* EnclosedPorch and WoodDeckSF = drop the data\n",
    "* LotFrontage, BedroomAbvGr, and GarageYrBlt = median value\n",
    "* GarageFinish, BsmtFinType1, and BsmtExposure = common value,\n",
    "* 2ndFlrSF and MasVnrArea = 0 value"
   ]
  },
  {
   "cell_type": "markdown",
   "metadata": {},
   "source": [
    "## Replace Missing Data"
   ]
  },
  {
   "cell_type": "markdown",
   "metadata": {},
   "source": [
    "First we will create a Pipeline so that we can:\n",
    "\n",
    "* Use the DropFeatures feature to drop the variables mentioned above.\n",
    "* Use the CategoricalImputer feature to replace the missing data with the most frequently occuring variable.\n",
    "* Use the ArbitraryNumberImputer feature replace the missing variable data with the value of 0.\n",
    "* Use the MeanMedianImputer feature to replace the missing variable data with the median"
   ]
  },
  {
   "cell_type": "code",
   "execution_count": null,
   "metadata": {},
   "outputs": [],
   "source": [
    "from feature_engine.selection import DropFeatures\n",
    "from feature_engine.imputation import CategoricalImputer\n",
    "from feature_engine.imputation import ArbitraryNumberImputer\n",
    "from feature_engine.imputation import MeanMedianImputer\n",
    "from sklearn.pipeline import Pipeline\n",
    "\n",
    "dropped_features = ['EnclosedPorch', 'WoodDeckSF']\n",
    "categorical_features = ['GarageFinish', 'BsmtFinType1', 'BsmtExposure']\n",
    "arbitrary_features = ['2ndFlrSF', 'MasVnrArea']\n",
    "median_features = ['LotFrontage', 'BedroomAbvGr', 'GarageYrBlt']\n",
    "\n",
    "pipeline = Pipeline([\n",
    "    ('DropFeatures', DropFeatures(features_to_drop=dropped_features)),\n",
    "\n",
    "    ('CategoricalImputer', CategoricalImputer(imputation_method='frequent', variables=categorical_features)),\n",
    "\n",
    "    ('ArbitraryNumberImputer', ArbitraryNumberImputer(arbitrary_number=0, variables=arbitrary_features)),\n",
    "\n",
    "    ('MeanMedianImputer', MeanMedianImputer(imputation_method='median', variables=median_features)),\n",
    "\n",
    "\n",
    "])\n",
    "\n",
    "df_house_prices = pipeline.fit_transform(df_house_prices)"
   ]
  },
  {
   "cell_type": "markdown",
   "metadata": {},
   "source": [
    "Next we will check whether all the data has been cleaned using the same function from earlier:"
   ]
  },
  {
   "cell_type": "code",
   "execution_count": null,
   "metadata": {},
   "outputs": [
    {
     "data": {
      "text/html": [
       "<div>\n",
       "<style scoped>\n",
       "    .dataframe tbody tr th:only-of-type {\n",
       "        vertical-align: middle;\n",
       "    }\n",
       "\n",
       "    .dataframe tbody tr th {\n",
       "        vertical-align: top;\n",
       "    }\n",
       "\n",
       "    .dataframe thead th {\n",
       "        text-align: right;\n",
       "    }\n",
       "</style>\n",
       "<table border=\"1\" class=\"dataframe\">\n",
       "  <thead>\n",
       "    <tr style=\"text-align: right;\">\n",
       "      <th></th>\n",
       "      <th>MissingDataRows</th>\n",
       "      <th>PercentageOfData</th>\n",
       "      <th>DataType</th>\n",
       "    </tr>\n",
       "  </thead>\n",
       "  <tbody>\n",
       "  </tbody>\n",
       "</table>\n",
       "</div>"
      ],
      "text/plain": [
       "Empty DataFrame\n",
       "Columns: [MissingDataRows, PercentageOfData, DataType]\n",
       "Index: []"
      ]
     },
     "execution_count": 17,
     "metadata": {},
     "output_type": "execute_result"
    }
   ],
   "source": [
    "def EvaluateCleanedData(df_house_prices):\n",
    "    missing_data_full = df_house_prices.isnull().sum()\n",
    "    percentage_of_missing = round(missing_data_full/len(df_house_prices)*100, 2)\n",
    "    df_missing_data = (pd.DataFrame(\n",
    "                            data={\"MissingDataRows\": missing_data_full,\n",
    "                                   \"PercentageOfData\": percentage_of_missing,\n",
    "                                   \"DataType\": df_house_prices.dtypes}\n",
    "                                    )\n",
    "                          .sort_values(by=['PercentageOfData'], ascending=False)\n",
    "                          .query(\"PercentageOfData > 0\")\n",
    "                          )\n",
    "\n",
    "    return df_missing_data\n",
    "\n",
    "EvaluateCleanedData(df_house_prices)"
   ]
  },
  {
   "cell_type": "markdown",
   "metadata": {},
   "source": [
    "As we can see there is now no missing data."
   ]
  },
  {
   "cell_type": "markdown",
   "metadata": {},
   "source": [
    "---"
   ]
  },
  {
   "cell_type": "markdown",
   "metadata": {},
   "source": [
    "# PPS Analysis & Correlation Study"
   ]
  },
  {
   "cell_type": "markdown",
   "metadata": {},
   "source": [
    "Now that we have cleaned the data, we will perform a PPS Analysis and further correlation study. The reason for this is because we would like to find out how the target variable of SalePrice correlates with the features:\n",
    "\n",
    "* We will use the same pearson and spearman methods for correlation\n",
    "* We will also calculate the Power Predictive Score (PPS).\n",
    "* We will also check for the best predictors."
   ]
  },
  {
   "cell_type": "code",
   "execution_count": null,
   "metadata": {},
   "outputs": [
    {
     "ename": "ModuleNotFoundError",
     "evalue": "No module named 'pkg_resources'",
     "output_type": "error",
     "traceback": [
      "\u001b[0;31m---------------------------------------------------------------------------\u001b[0m",
      "\u001b[0;31mModuleNotFoundError\u001b[0m                       Traceback (most recent call last)",
      "\u001b[1;32m/workspace/hertiage-housing/jupyter_notebooks/Data_Cleaning.ipynb Cell 42\u001b[0m line \u001b[0;36m4\n\u001b[1;32m      <a href='vscode-notebook-cell://jamieroche1-hertiagehou-0caiwn8gkj0.ws-eu108.gitpod.io/workspace/hertiage-housing/jupyter_notebooks/Data_Cleaning.ipynb#X60sdnNjb2RlLXJlbW90ZQ%3D%3D?line=1'>2</a>\u001b[0m \u001b[39mimport\u001b[39;00m \u001b[39mmatplotlib\u001b[39;00m\u001b[39m.\u001b[39;00m\u001b[39mpyplot\u001b[39;00m \u001b[39mas\u001b[39;00m \u001b[39mplt\u001b[39;00m\n\u001b[1;32m      <a href='vscode-notebook-cell://jamieroche1-hertiagehou-0caiwn8gkj0.ws-eu108.gitpod.io/workspace/hertiage-housing/jupyter_notebooks/Data_Cleaning.ipynb#X60sdnNjb2RlLXJlbW90ZQ%3D%3D?line=2'>3</a>\u001b[0m \u001b[39mimport\u001b[39;00m \u001b[39mseaborn\u001b[39;00m \u001b[39mas\u001b[39;00m \u001b[39msns\u001b[39;00m\n\u001b[0;32m----> <a href='vscode-notebook-cell://jamieroche1-hertiagehou-0caiwn8gkj0.ws-eu108.gitpod.io/workspace/hertiage-housing/jupyter_notebooks/Data_Cleaning.ipynb#X60sdnNjb2RlLXJlbW90ZQ%3D%3D?line=3'>4</a>\u001b[0m \u001b[39mimport\u001b[39;00m \u001b[39mppscore\u001b[39;00m \u001b[39mas\u001b[39;00m \u001b[39mpps\u001b[39;00m\n\u001b[1;32m      <a href='vscode-notebook-cell://jamieroche1-hertiagehou-0caiwn8gkj0.ws-eu108.gitpod.io/workspace/hertiage-housing/jupyter_notebooks/Data_Cleaning.ipynb#X60sdnNjb2RlLXJlbW90ZQ%3D%3D?line=5'>6</a>\u001b[0m get_ipython()\u001b[39m.\u001b[39mrun_line_magic(\u001b[39m'\u001b[39m\u001b[39mmatplotlib\u001b[39m\u001b[39m'\u001b[39m, \u001b[39m'\u001b[39m\u001b[39minline\u001b[39m\u001b[39m'\u001b[39m)\n\u001b[1;32m      <a href='vscode-notebook-cell://jamieroche1-hertiagehou-0caiwn8gkj0.ws-eu108.gitpod.io/workspace/hertiage-housing/jupyter_notebooks/Data_Cleaning.ipynb#X60sdnNjb2RlLXJlbW90ZQ%3D%3D?line=7'>8</a>\u001b[0m \u001b[39mdef\u001b[39;00m \u001b[39mheatmap_corr\u001b[39m(df_house_prices, threshold, figsize\u001b[39m=\u001b[39m(\u001b[39m20\u001b[39m, \u001b[39m12\u001b[39m), font_annot\u001b[39m=\u001b[39m\u001b[39m8\u001b[39m):\n",
      "File \u001b[0;32m/workspace/hertiage-housing/.venv/lib/python3.12/site-packages/ppscore/__init__.py:2\u001b[0m\n\u001b[1;32m      1\u001b[0m \u001b[39m# -*- coding: utf-8 -*-\u001b[39;00m\n\u001b[0;32m----> 2\u001b[0m \u001b[39mfrom\u001b[39;00m \u001b[39mpkg_resources\u001b[39;00m \u001b[39mimport\u001b[39;00m get_distribution, DistributionNotFound\n\u001b[1;32m      4\u001b[0m \u001b[39mtry\u001b[39;00m:\n\u001b[1;32m      5\u001b[0m     \u001b[39m# Change here if project is renamed and does not equal the package name\u001b[39;00m\n\u001b[1;32m      6\u001b[0m     dist_name \u001b[39m=\u001b[39m \u001b[39m__name__\u001b[39m\n",
      "\u001b[0;31mModuleNotFoundError\u001b[0m: No module named 'pkg_resources'"
     ]
    }
   ],
   "source": [
    "import numpy as np\n",
    "import matplotlib.pyplot as plt\n",
    "import seaborn as sns\n",
    "import ppscore as pps\n",
    "\n",
    "%matplotlib inline\n",
    "\n",
    "def heatmap_corr(df_house_prices, threshold, figsize=(20, 12), font_annot=8):\n",
    "    if len(df_house_prices.columns) > 1:\n",
    "        mask = np.zeros_like(df_house_prices, dtype=np.bool_)\n",
    "        mask[np.triu_indices_from(mask)] = True\n",
    "        mask[abs(df_house_prices) < threshold] = True\n",
    "\n",
    "        fig, axes = plt.subplots(figsize=figsize)\n",
    "        sns.heatmap(df_house_prices, annot=True, xticklabels=True, yticklabels=True,\n",
    "                    mask=mask, cmap='viridis', ax=axes,\n",
    "                    linewidth=0.5\n",
    "                    )\n",
    "        axes.set_yticklabels(df_house_prices, rotation=0)\n",
    "        plt.ylim(len(df_house_prices.columns), 0)\n",
    "        plt.show()\n",
    "\n",
    "\n",
    "\n",
    "def heatmap_pps(df_house_prices, threshold, figsize=(20, 12), font_annot=8):\n",
    "    if len(df_house_prices.columns) > 1:\n",
    "        mask = np.zeros_like(df_house_prices, dtype=np.bool_)\n",
    "        mask[abs(df_house_prices) < threshold] = True\n",
    "\n",
    "        fig, ax = plt.subplots(figsize=figsize)\n",
    "        ax = sns.heatmap(df_house_prices, annot=True, xticklabels=True, yticklabels=True,\n",
    "                         mask=mask, cmap='rocket_r',\n",
    "                         linewidth=0.05, linecolor='grey')\n",
    "        plt.ylim(len(df_house_prices.columns), 0)\n",
    "        plt.show()\n",
    "\n",
    "\n",
    "def CalculateCorrAndPPS(df):\n",
    "    df_corr_spearman = df.corr(method=\"spearman\", numeric_only=True)\n",
    "    df_corr_pearson = df.corr(method=\"pearson\", numeric_only=True)\n",
    "\n",
    "    pps_matrix_raw = pps.matrix(df)\n",
    "    pps_matrix = pps_matrix_raw.filter(['x', 'y', 'ppscore']).pivot(columns='x', index='y', values='ppscore')\n",
    "\n",
    "    pps_score_stats = pps_matrix_raw.query(\"ppscore < 1\").filter(['ppscore']).describe().T\n",
    "    print(\"PPS threshold - check PPS score IQR to decide threshold for heatmap \\n\")\n",
    "    print(pps_score_stats.round(3))\n",
    "\n",
    "\n",
    "    return df_corr_pearson, df_corr_spearman, pps_matrix\n",
    "\n",
    "    def DisplayCorrAndPPS(df_corr_pearson, df_corr_spearman, pps_matrix, CorrThreshold, PPS_Threshold,\n",
    "                      figsize=(20, 12), font_annot=8):\n",
    "\n",
    "        print()\n",
    "        print(\"* Analyse how the target variable for your ML models are correlated with other variables (features and target)\")\n",
    "        print(\"* Analyse multi-colinearity, that is, how the features are correlated among themselves\")\n",
    "\n",
    "        print(\"\")\n",
    "        print(\"*** Heatmap: Spearman Correlation ***\")\n",
    "        print(\"It evaluates monotonic relationship \")\n",
    "        heatmap_corr(df_house_prices=df_corr_spearman, threshold=CorrThreshold, figsize=figsize, font_annot=font_annot)\n",
    "\n",
    "        print(\"\")\n",
    "        print(\"*** Heatmap: Pearson Correlation ***\")\n",
    "        print(\"It evaluates the linear relationship between two continuous variables\")\n",
    "        heatmap_corr(df_house_prices=df_corr_pearson, threshold=CorrThreshold, figsize=figsize, font_annot=font_annot)\n",
    "\n",
    "        print(\"\")\n",
    "        print(\"*** Heatmap: Power Predictive Score (PPS) ***\")\n",
    "        print(f\"PPS detects linear or non-linear relationships between two columns.\"\n",
    "          f\"The score ranges from 0 (no predictive power) to 1 (perfect predictive power)\")\n",
    "        heatmap_pps(df_house_prices=pps_matrix, threshold=PPS_Threshold, figsize=figsize, font_annot=font_annot)\n",
    "\n",
    "\n"
   ]
  },
  {
   "cell_type": "code",
   "execution_count": null,
   "metadata": {},
   "outputs": [
    {
     "ename": "NameError",
     "evalue": "name 'CalculateCorrAndPPS' is not defined",
     "output_type": "error",
     "traceback": [
      "\u001b[0;31m---------------------------------------------------------------------------\u001b[0m",
      "\u001b[0;31mNameError\u001b[0m                                 Traceback (most recent call last)",
      "\u001b[1;32m/workspace/hertiage-housing/jupyter_notebooks/Data_Cleaning.ipynb Cell 43\u001b[0m line \u001b[0;36m1\n\u001b[0;32m----> <a href='vscode-notebook-cell://jamieroche1-hertiagehou-0caiwn8gkj0.ws-eu108.gitpod.io/workspace/hertiage-housing/jupyter_notebooks/Data_Cleaning.ipynb#X62sdnNjb2RlLXJlbW90ZQ%3D%3D?line=0'>1</a>\u001b[0m df_corr_pearson, df_corr_spearman, pps_matrix \u001b[39m=\u001b[39m CalculateCorrAndPPS(df_house_prices)\n",
      "\u001b[0;31mNameError\u001b[0m: name 'CalculateCorrAndPPS' is not defined"
     ]
    }
   ],
   "source": [
    "df_corr_pearson, df_corr_spearman, pps_matrix = CalculateCorrAndPPS(df_house_prices)"
   ]
  },
  {
   "cell_type": "code",
   "execution_count": 2,
   "metadata": {},
   "outputs": [
    {
     "ename": "NameError",
     "evalue": "name 'DisplayCorrAndPPS' is not defined",
     "output_type": "error",
     "traceback": [
      "\u001b[0;31m---------------------------------------------------------------------------\u001b[0m",
      "\u001b[0;31mNameError\u001b[0m                                 Traceback (most recent call last)",
      "\u001b[1;32m/workspace/hertiage-housing/jupyter_notebooks/Data_Cleaning.ipynb Cell 44\u001b[0m line \u001b[0;36m1\n\u001b[0;32m----> <a href='vscode-notebook-cell://jamieroche1-hertiagehou-0caiwn8gkj0.ws-eu108.gitpod.io/workspace/hertiage-housing/jupyter_notebooks/Data_Cleaning.ipynb#X63sdnNjb2RlLXJlbW90ZQ%3D%3D?line=0'>1</a>\u001b[0m DisplayCorrAndPPS(df_corr_pearson \u001b[39m=\u001b[39m df_corr_pearson,\n\u001b[1;32m      <a href='vscode-notebook-cell://jamieroche1-hertiagehou-0caiwn8gkj0.ws-eu108.gitpod.io/workspace/hertiage-housing/jupyter_notebooks/Data_Cleaning.ipynb#X63sdnNjb2RlLXJlbW90ZQ%3D%3D?line=1'>2</a>\u001b[0m                   df_corr_spearman \u001b[39m=\u001b[39m df_corr_spearman, \n\u001b[1;32m      <a href='vscode-notebook-cell://jamieroche1-hertiagehou-0caiwn8gkj0.ws-eu108.gitpod.io/workspace/hertiage-housing/jupyter_notebooks/Data_Cleaning.ipynb#X63sdnNjb2RlLXJlbW90ZQ%3D%3D?line=2'>3</a>\u001b[0m                   pps_matrix \u001b[39m=\u001b[39m pps_matrix,\n\u001b[1;32m      <a href='vscode-notebook-cell://jamieroche1-hertiagehou-0caiwn8gkj0.ws-eu108.gitpod.io/workspace/hertiage-housing/jupyter_notebooks/Data_Cleaning.ipynb#X63sdnNjb2RlLXJlbW90ZQ%3D%3D?line=3'>4</a>\u001b[0m                   CorrThreshold \u001b[39m=\u001b[39m \u001b[39m0.4\u001b[39m, PPS_Threshold \u001b[39m=\u001b[39m\u001b[39m0.2\u001b[39m,\n\u001b[1;32m      <a href='vscode-notebook-cell://jamieroche1-hertiagehou-0caiwn8gkj0.ws-eu108.gitpod.io/workspace/hertiage-housing/jupyter_notebooks/Data_Cleaning.ipynb#X63sdnNjb2RlLXJlbW90ZQ%3D%3D?line=4'>5</a>\u001b[0m                   figsize\u001b[39m=\u001b[39m(\u001b[39m12\u001b[39m,\u001b[39m10\u001b[39m), font_annot\u001b[39m=\u001b[39m\u001b[39m10\u001b[39m)\n",
      "\u001b[0;31mNameError\u001b[0m: name 'DisplayCorrAndPPS' is not defined"
     ]
    }
   ],
   "source": [
    "DisplayCorrAndPPS(df_corr_pearson = df_corr_pearson,\n",
    "                  df_corr_spearman = df_corr_spearman, \n",
    "                  pps_matrix = pps_matrix,\n",
    "                  CorrThreshold = 0.4, PPS_Threshold =0.2,\n",
    "                  figsize=(12,10), font_annot=10)"
   ]
  }
 ],
 "metadata": {
  "kernelspec": {
   "display_name": "Python 3",
   "language": "python",
   "name": "python3"
  },
  "language_info": {
   "codemirror_mode": {
    "name": "ipython",
    "version": 3
   },
   "file_extension": ".py",
   "mimetype": "text/x-python",
   "name": "python",
   "nbconvert_exporter": "python",
   "pygments_lexer": "ipython3",
   "version": "3.8.18"
  }
 },
 "nbformat": 4,
 "nbformat_minor": 2
}
